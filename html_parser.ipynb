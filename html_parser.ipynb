{
 "cells": [
  {
   "cell_type": "code",
   "execution_count": 8,
   "id": "acfe67e3",
   "metadata": {},
   "outputs": [],
   "source": [
    "from bs4 import BeautifulSoup\n",
    "import re\n",
    "import chardet\n",
    "import pandas as pd\n",
    "import numpy as np\n",
    "import time\n",
    "import os\n",
    "from datetime import datetime\n",
    "from db_conn.connection import *\n",
    "from IPython.display import clear_output"
   ]
  },
  {
   "cell_type": "code",
   "execution_count": 34,
   "id": "01ee339f",
   "metadata": {},
   "outputs": [],
   "source": [
    "def scrape_html() -> list[pd.DataFrame]:\n",
    "    global today\n",
    "    today = datetime.now().strftime('%m%d%Y')\n",
    "    rows = []\n",
    "    files = [x for x in os.listdir(f'./html_source/subchapters/{today}') if x != '.DS_Store']\n",
    "    cnt = 0\n",
    "    total= len(files)\n",
    "    for x in files:\n",
    "        clear_output(wait=True)\n",
    "        cnt += 1\n",
    "        print(f'file: {cnt} out of {total}....{x}')\n",
    "        with open(f'./html_source/subchapters/{today}/{x}', 'rb') as f:\n",
    "            soup = BeautifulSoup(f, 'lxml')\n",
    "        _title = soup.find('title').text.strip() if soup.find('title') else None\n",
    "        _heading= None\n",
    "        _body = None\n",
    "        for y in soup.find_all('p'):\n",
    "            if 'heading' in y.get('class')[0].lower():\n",
    "                _heading = y.text.strip()\n",
    "                _body = None\n",
    "            if 'body' in y.get('class')[0].lower():\n",
    "                _body = y.text\n",
    "            row = pd.DataFrame({\n",
    "                    'file_name':    [x],\n",
    "                    'title':        [_title],\n",
    "                    'heading':      [_heading],\n",
    "                    'body_text':    [_body]\n",
    "                })\n",
    "            rows.append(row)\n",
    "    return rows\n"
   ]
  },
  {
   "cell_type": "code",
   "execution_count": 20,
   "id": "4d08b7e2",
   "metadata": {},
   "outputs": [
    {
     "name": "stdout",
     "output_type": "stream",
     "text": [
      "file: 1500 out of 1500....03FAH012110.html\n"
     ]
    }
   ],
   "source": [
    "rows = scrape_html()"
   ]
  },
  {
   "cell_type": "code",
   "execution_count": 21,
   "id": "92075263",
   "metadata": {},
   "outputs": [],
   "source": [
    "df = pd.concat(rows, ignore_index=True)"
   ]
  },
  {
   "cell_type": "code",
   "execution_count": 22,
   "id": "0abdf119",
   "metadata": {},
   "outputs": [
    {
     "data": {
      "application/vnd.microsoft.datawrangler.viewer.v0+json": {
       "columns": [
        {
         "name": "index",
         "rawType": "int64",
         "type": "integer"
        },
        {
         "name": "file_name",
         "rawType": "object",
         "type": "string"
        },
        {
         "name": "title",
         "rawType": "object",
         "type": "unknown"
        },
        {
         "name": "heading",
         "rawType": "object",
         "type": "unknown"
        },
        {
         "name": "body_text",
         "rawType": "object",
         "type": "unknown"
        }
       ],
       "ref": "dfe4b516-d5c1-4e19-a388-6fd2c838b196",
       "rows": [
        [
         "0",
         "04FAM0830.html",
         "4 FAM 830 EMERGENCY EVACUATION FISCAL POLICY",
         null,
         null
        ],
        [
         "1",
         "04FAM0830.html",
         "4 FAM 830 EMERGENCY EVACUATION FISCAL POLICY",
         "4 FAM 830",
         null
        ],
        [
         "2",
         "04FAM0830.html",
         "4 FAM 830 EMERGENCY EVACUATION FISCAL POLICY",
         "EMERGENCY EVACUATION",
         null
        ],
        [
         "3",
         "04FAM0830.html",
         "4 FAM 830 EMERGENCY EVACUATION FISCAL POLICY",
         "FISCAL POLICY",
         null
        ],
        [
         "4",
         "04FAM0830.html",
         "4 FAM 830 EMERGENCY EVACUATION FISCAL POLICY",
         "FISCAL POLICY",
         null
        ],
        [
         "5",
         "04FAM0830.html",
         "4 FAM 830 EMERGENCY EVACUATION FISCAL POLICY",
         "4 FAM 831\n    \n    SCOPE AND APPLICABILITY",
         null
        ],
        [
         "6",
         "04FAM0830.html",
         "4 FAM 830 EMERGENCY EVACUATION FISCAL POLICY",
         "4 FAM 831\n    \n    SCOPE AND APPLICABILITY",
         null
        ],
        [
         "7",
         "04FAM0830.html",
         "4 FAM 830 EMERGENCY EVACUATION FISCAL POLICY",
         "4 FAM 831\n    \n    SCOPE AND APPLICABILITY",
         "\n    a. When it becomes necessary to evacuate a post by authorized\nor ordered departure due to an emergency that poses a threat to U.S. personnel\nand/or property, the post fiscal and management officers must instruct all post\npersonnel in the proper fiscal duties and responsibilities required under\nemergency evacuation conditions.  These duties and responsibilities are\ndescribed in\n    \n     4 FAM 830\n    \n    and post-specific evacuation procedures.  General\nguidance and authorities pertaining to evacuations are contained in\n    \n     12 FAH-1\n    \n    .\n   "
        ],
        [
         "8",
         "04FAM0830.html",
         "4 FAM 830 EMERGENCY EVACUATION FISCAL POLICY",
         "4 FAM 831\n    \n    SCOPE AND APPLICABILITY",
         "\n    b. Financial management personnel must protect and\ninventory U.S. Government official funds, including cash on hand, negotiable\ninstruments, blank check stock, funds on deposit in local banks, and all\nrelated accounting records.  As directed by the post’s emergency\nevacuation committee, financial management personnel must withdraw funds from\nall bank accounts and transfer accountability to a single individual, if\nnecessary, in order to safeguard the funds.\n   "
        ],
        [
         "9",
         "04FAM0830.html",
         "4 FAM 830 EMERGENCY EVACUATION FISCAL POLICY",
         "4 FAM 831\n    \n    SCOPE AND APPLICABILITY",
         "\n    c.  Financial personnel at post, in Washington DC, and\nat CGFS Charleston and Bangkok must take the necessary actions to provide post\npersonnel that have been evacuated, advances and payments for salary, per diem,\nand allowances after their arrival at the safehaven post.\n   "
        ],
        [
         "10",
         "04FAM0830.html",
         "4 FAM 830 EMERGENCY EVACUATION FISCAL POLICY",
         "4 FAM 831\n    \n    SCOPE AND APPLICABILITY",
         "\n    d. Post financial management and consular personnel may\nalso provide funds for evacuating U.S. citizens and foreign nationals.  Post\nmust not accept cash to cover evacuation expenses.  Form DS-5528, Evacuee\nManifest and Promissory Note, is used to process crisis evacuation loans. \nCompletion of this application is required to facilitate reimbursement. \nReimbursement is required except where the Secretary determines it is\nimpracticable to seek reimbursement from evacuees.  See\n    \n     7 FAM 1800 Appendix D\n    \n    for guidance on crisis evacuation loans and evacuation documentation.\n   "
        ],
        [
         "11",
         "04FAM0830.html",
         "4 FAM 830 EMERGENCY EVACUATION FISCAL POLICY",
         "4 FAM 831\n    \n    SCOPE AND APPLICABILITY",
         "\n    e. Unless specifically directed otherwise by the\nDepartment, all post emergency evacuation expenses for Department of State U.S.\ndirect hire employees and eligible family members (EFMs) are chargeable to\nappropriation 19X0522, Emergencies in the Diplomatic and Consular Service.  In\nmost cases, emergency evacuation expenses for non-State employees are charged\nto fiscal data provided by their Agency or Department.  In most cases,\nemergency evacuation expenses for loans to private U.S. citizens, foreign nationals,\nand lawful permanent residents are charged to appropriation 19X0522.\n   "
        ],
        [
         "12",
         "04FAM0830.html",
         "4 FAM 830 EMERGENCY EVACUATION FISCAL POLICY",
         "4 FAM 831.1\n    \n    Fiscal Guidelines for Emergency Events",
         null
        ],
        [
         "13",
         "04FAM0830.html",
         "4 FAM 830 EMERGENCY EVACUATION FISCAL POLICY",
         "4 FAM 831.1\n    \n    Fiscal Guidelines for Emergency Events",
         null
        ],
        [
         "14",
         "04FAM0830.html",
         "4 FAM 830 EMERGENCY EVACUATION FISCAL POLICY",
         "4 FAM 831.1\n    \n    Fiscal Guidelines for Emergency Events",
         null
        ],
        [
         "15",
         "04FAM0830.html",
         "4 FAM 830 EMERGENCY EVACUATION FISCAL POLICY",
         "4 FAM 831.2\n    \n    Policy",
         null
        ],
        [
         "16",
         "04FAM0830.html",
         "4 FAM 830 EMERGENCY EVACUATION FISCAL POLICY",
         "4 FAM 831.2\n    \n    Policy",
         null
        ],
        [
         "17",
         "04FAM0830.html",
         "4 FAM 830 EMERGENCY EVACUATION FISCAL POLICY",
         "4 FAM 831.2\n    \n    Policy",
         "\n    a. Fiscal operations for country or post emergencies\nshould be planned in advance.  In the event of the unanticipated, extreme\nemergency, common sense and prudent controls are followed.  Regulations should\nguide the actions of financial management personnel to ensure that strong\ncontrols and accountability are maintained under emergency conditions to avoid\nfinancial problems and fiscal irregularities.\n   "
        ],
        [
         "18",
         "04FAM0830.html",
         "4 FAM 830 EMERGENCY EVACUATION FISCAL POLICY",
         "4 FAM 831.2\n    \n    Policy",
         "\n    b. All emergency fiscal operations are executed in\naccordance with the Department’s financial management regulations and\nprocedures in\n    \n     4 FAM 830\n    \n    ; related procedures in\n    \n     7 FAM 100\n    \n    ; and Chapter 600,\nDepartment of State Standardized Regulations (DSSR).\n   "
        ],
        [
         "19",
         "04FAM0830.html",
         "4 FAM 830 EMERGENCY EVACUATION FISCAL POLICY",
         "4 FAM 832\n    \n    RESPONSIBILITIES OF POST PERSONNEL",
         null
        ],
        [
         "20",
         "04FAM0830.html",
         "4 FAM 830 EMERGENCY EVACUATION FISCAL POLICY",
         "4 FAM 832.1\n    \n    Instruction and Coordination",
         null
        ],
        [
         "21",
         "04FAM0830.html",
         "4 FAM 830 EMERGENCY EVACUATION FISCAL POLICY",
         "4 FAM 832.1\n    \n    Instruction and Coordination",
         null
        ],
        [
         "22",
         "04FAM0830.html",
         "4 FAM 830 EMERGENCY EVACUATION FISCAL POLICY",
         "4 FAM 832.1\n    \n    Instruction and Coordination",
         "\n    a. The FMO or MO (if there is no FMO at post) must\nensure that all personnel assigned to a post are familiar with their fiscal\nduties and responsibilities under emergency evacuation conditions and are aware\nof emergency evacuation fiscal operating requirements, including the specific\nemergency evacuation duties assigned to their immediate staffs.\n   "
        ],
        [
         "23",
         "04FAM0830.html",
         "4 FAM 830 EMERGENCY EVACUATION FISCAL POLICY",
         "4 FAM 832.1\n    \n    Instruction and Coordination",
         "\n    b. After the evacuation has been authorized or ordered,\nthe Under Secretary for Management (M) provides fiscal data with the evacuation\ninstructions.  The FMO or MO should coordinate the emergency evacuation fiscal\noperations between activities at post, the regional bureau, and the designated\nsafehaven(s).  This includes State, other agencies, and special activities\nwithin the country being evacuated.\n   "
        ],
        [
         "24",
         "04FAM0830.html",
         "4 FAM 830 EMERGENCY EVACUATION FISCAL POLICY",
         "4 FAM 832.2\n    \n    Protection of Funds and Accounting Records",
         null
        ],
        [
         "25",
         "04FAM0830.html",
         "4 FAM 830 EMERGENCY EVACUATION FISCAL POLICY",
         "4 FAM 832.2\n    \n    Protection of Funds and Accounting Records",
         null
        ],
        [
         "26",
         "04FAM0830.html",
         "4 FAM 830 EMERGENCY EVACUATION FISCAL POLICY",
         "4 FAM 832.2\n    \n    Protection of Funds and Accounting Records",
         "\n    a. Financial management personnel must ensure the\nprotection and inventory of all official funds, local trust funds, related\naccounting records, and supporting transaction documents held at the post. \nThis may include cash on hand, negotiable instruments, blank check forms, funds\non deposit in local banks, and related accounting records and documents.\n   "
        ],
        [
         "27",
         "04FAM0830.html",
         "4 FAM 830 EMERGENCY EVACUATION FISCAL POLICY",
         "4 FAM 832.2\n    \n    Protection of Funds and Accounting Records",
         "\n    b. The FMO or MO will evaluate post's available cash on\nhand to support emergency evacuation expenses within 48 hours of receiving the\nauthorized or ordered departure cable and deposit all unneeded local currency\ninto the U.S. disbursing officer (USDO) bank account.  This includes funds held\nby the post Class B cashier from\n    \n     his/her\n    \n    authorized\nadvance, including alternate and subcashier(s), the cashier checking account,\nand other agency cashiers.  To the extent possible, the USDO is responsible for\nany emergency movement of funds out of\n    \n     his/her\n    \n    bank\naccount.  The FMO issues instructions to all budget and fiscal personnel\nregarding the use of official funds held for emergency evacuation purposes and\nwill evaluate whether accommodation exchange transactions should be continued\nduring the emergency.\n   "
        ],
        [
         "28",
         "04FAM0830.html",
         "4 FAM 830 EMERGENCY EVACUATION FISCAL POLICY",
         "4 FAM 832.2\n    \n    Protection of Funds and Accounting Records",
         "\n    c.  In the event there is a residual amount of U.S. or\nlocal currency when authorized or ordered departure takes effect, the chief of\nmission or as delegated to the deputy chief of mission or management officer,\nwill determine whether there is sufficient time and resources to remove or\ndestroy the remaining currency.  The FMO, if present at post at the time of the\nauthorized or ordered departure, should make a recommendation for removal or\ndestruction but may not be delegated decision responsibility.\n   "
        ],
        [
         "29",
         "04FAM0830.html",
         "4 FAM 830 EMERGENCY EVACUATION FISCAL POLICY",
         "4 FAM 832.2\n    \n    Protection of Funds and Accounting Records",
         "\n    d. If the decision is made to destroy the remaining\ncurrency, the principal officer or delegated official is responsible for\ndesignating a team of at least three U.S. citizen employees (one of whom must\nbe a U.S. Department of State direct-hire employee) to perform and witness the\ndestruction of the currency in the following manner (see\n    \n     12 FAH-1 Annex E\n    \n    Addendum 3.1):\n   "
        ],
        [
         "30",
         "04FAM0830.html",
         "4 FAM 830 EMERGENCY EVACUATION FISCAL POLICY",
         "4 FAM 832.2\n    \n    Protection of Funds and Accounting Records",
         "\n    (1)  Count the currency to be destroyed;\n   "
        ],
        [
         "31",
         "04FAM0830.html",
         "4 FAM 830 EMERGENCY EVACUATION FISCAL POLICY",
         "4 FAM 832.2\n    \n    Protection of Funds and Accounting Records",
         "\n    (2)  Prepare a memorandum of certification with two\ncopies showing a log of all serial numbers and amount of each denomination of\nU.S. and local currency destroyed (see the example in\n    \n     12 FAH-1 Annex E\n    \n    Addendum\n3.5).  The certification must be as complete as time and circumstances permit;\n   "
        ],
        [
         "32",
         "04FAM0830.html",
         "4 FAM 830 EMERGENCY EVACUATION FISCAL POLICY",
         "4 FAM 832.2\n    \n    Protection of Funds and Accounting Records",
         "\n\n     NOTE\n    \n    :  If there is\ninsufficient time to count the currency, attach the most recent cashier\naccountability report to the memorandum;\n   "
        ],
        [
         "33",
         "04FAM0830.html",
         "4 FAM 830 EMERGENCY EVACUATION FISCAL POLICY",
         "4 FAM 832.2\n    \n    Protection of Funds and Accounting Records",
         "\n    (3)  Destroy the currency using shredder and\ndisintegrator devices approved for destroying classified material and taking\nappropriate steps to maintain the confidentiality of the destruction operation;\n   "
        ],
        [
         "34",
         "04FAM0830.html",
         "4 FAM 830 EMERGENCY EVACUATION FISCAL POLICY",
         "4 FAM 832.2\n    \n    Protection of Funds and Accounting Records",
         "\n    (4)  Certify the date of destruction and currency\ndestroyed on the memorandum of certification and include the name, title,\ngrade, and signature of all witnesses; and\n   "
        ],
        [
         "35",
         "04FAM0830.html",
         "4 FAM 830 EMERGENCY EVACUATION FISCAL POLICY",
         "4 FAM 832.2\n    \n    Protection of Funds and Accounting Records",
         "\n    (5)  Take the memorandum of certification upon\ndeparture from post.  The accountable officer should retain one copy and a\nsecond copy should be retained by the officer certifying destruction.  All\ncopies must have original signatures.\n   "
        ],
        [
         "36",
         "04FAM0830.html",
         "4 FAM 830 EMERGENCY EVACUATION FISCAL POLICY",
         "4 FAM 832.2\n    \n    Protection of Funds and Accounting Records",
         "\n    e. The servicing USDO is responsible for requesting the\nTreasury Department reduce the Department's liability for outstanding currency\nby the amount of the destroyed currency by performing the following actions:\n   "
        ],
        [
         "37",
         "04FAM0830.html",
         "4 FAM 830 EMERGENCY EVACUATION FISCAL POLICY",
         "4 FAM 832.2\n    \n    Protection of Funds and Accounting Records",
         "\n    (1)  Prepare a memorandum for the CGFS Comptroller's\nsignature, addressed to the Department of Treasury Fiscal Assistant Secretary,\nrequesting relief of liability for destroyed currency.  List the amount that\nwas destroyed, information about the circumstances surrounding destruction, and\ncontact information for an employee who can provide supporting documentation;\nand\n   "
        ],
        [
         "38",
         "04FAM0830.html",
         "4 FAM 830 EMERGENCY EVACUATION FISCAL POLICY",
         "4 FAM 832.2\n    \n    Protection of Funds and Accounting Records",
         "\n    (2)  Send the memorandum by first class mail to:\n   "
        ],
        [
         "39",
         "04FAM0830.html",
         "4 FAM 830 EMERGENCY EVACUATION FISCAL POLICY",
         "4 FAM 832.2\n    \n    Protection of Funds and Accounting Records",
         "\n    Fiscal Assistant Secretary\n   "
        ],
        [
         "40",
         "04FAM0830.html",
         "4 FAM 830 EMERGENCY EVACUATION FISCAL POLICY",
         "4 FAM 832.2\n    \n    Protection of Funds and Accounting Records",
         "\n    United States Department of the Treasury\n   "
        ],
        [
         "41",
         "04FAM0830.html",
         "4 FAM 830 EMERGENCY EVACUATION FISCAL POLICY",
         "4 FAM 832.2\n    \n    Protection of Funds and Accounting Records",
         "\n    1500 Pennsylvania Avenue, NW\n   "
        ],
        [
         "42",
         "04FAM0830.html",
         "4 FAM 830 EMERGENCY EVACUATION FISCAL POLICY",
         "4 FAM 832.2\n    \n    Protection of Funds and Accounting Records",
         "\n    Room 2112\n   "
        ],
        [
         "43",
         "04FAM0830.html",
         "4 FAM 830 EMERGENCY EVACUATION FISCAL POLICY",
         "4 FAM 832.2\n    \n    Protection of Funds and Accounting Records",
         "\n    Washington, DC  20220\n   "
        ],
        [
         "44",
         "04FAM0830.html",
         "4 FAM 830 EMERGENCY EVACUATION FISCAL POLICY",
         "4 FAM 832.2\n    \n    Protection of Funds and Accounting Records",
         "\n    f.  When the request is received, Treasury will contact\nthe Department for supporting documentation.  The Treasury Department Fiscal\nAssistant Secretary’s office will evaluate requests to reduce the\nDepartment’s liability and, upon approval, will contact the Federal\nReserve Board of Governors and request appropriate action to reduce the\nagency’s liability for outstanding currency and credit the agency’s\naccount with an amount equal to the amount that was destroyed.\n   "
        ],
        [
         "45",
         "04FAM0830.html",
         "4 FAM 830 EMERGENCY EVACUATION FISCAL POLICY",
         "4 FAM 832.2\n    \n    Protection of Funds and Accounting Records",
         "\n    g. If deemed necessary for emergency purposes, the\nchairperson of the post’s emergency action committee, or\n    \n     his/her\n    \n    designee, may direct that all official\nand local trust funds, related accounting records, and supporting transaction\ndocuments held by post cashiers, including cashiers of other agencies, be\nturned over to a designated U.S. employee.  The designated employee and the\nprincipal cashier should complete the Form OF-205, Statement of Cash Operating\nAdvance and Replenishment Voucher, to transfer the cashier's accountability,\nprepared in triplicate, all with original signatures, time permitting:\n   "
        ],
        [
         "46",
         "04FAM0830.html",
         "4 FAM 830 EMERGENCY EVACUATION FISCAL POLICY",
         "4 FAM 832.2\n    \n    Protection of Funds and Accounting Records",
         "\n    (1)  The original is sent to the Office of Global\nDisbursing Operations (CGFS/DO);\n   "
        ],
        [
         "47",
         "04FAM0830.html",
         "4 FAM 830 EMERGENCY EVACUATION FISCAL POLICY",
         "4 FAM 832.2\n    \n    Protection of Funds and Accounting Records",
         "\n    (2)  One copy is given to the person surrendering the\nfunds; and\n   "
        ],
        [
         "48",
         "04FAM0830.html",
         "4 FAM 830 EMERGENCY EVACUATION FISCAL POLICY",
         "4 FAM 832.2\n    \n    Protection of Funds and Accounting Records",
         "\n    (3)  One copy is retained by the employee accepting\nresponsibility for the funds, records, and documents.\n   "
        ],
        [
         "49",
         "04FAM0830.html",
         "4 FAM 830 EMERGENCY EVACUATION FISCAL POLICY",
         "4 FAM 832.2\n    \n    Protection of Funds and Accounting Records",
         "\n    h. The FMO or, in the absence of an FMO, the cashier\nsupervisor, must ensure that the principal cashier reconciles\n    \n     his/her\n    \n    accountability and provides the\nreconciliation forms to the American supervisor.  The reconciliation documents\nand cash on hand should be verified by the supervisor, time permitting.  The\ncashier must place all U.S. dollar cash on hand in a cash box with combination\nlock and place all reconciliation supporting documents in a secure container.\n   "
        ]
       ],
       "shape": {
        "columns": 4,
        "rows": 253008
       }
      },
      "text/html": [
       "<div>\n",
       "<style scoped>\n",
       "    .dataframe tbody tr th:only-of-type {\n",
       "        vertical-align: middle;\n",
       "    }\n",
       "\n",
       "    .dataframe tbody tr th {\n",
       "        vertical-align: top;\n",
       "    }\n",
       "\n",
       "    .dataframe thead th {\n",
       "        text-align: right;\n",
       "    }\n",
       "</style>\n",
       "<table border=\"1\" class=\"dataframe\">\n",
       "  <thead>\n",
       "    <tr style=\"text-align: right;\">\n",
       "      <th></th>\n",
       "      <th>file_name</th>\n",
       "      <th>title</th>\n",
       "      <th>heading</th>\n",
       "      <th>body_text</th>\n",
       "    </tr>\n",
       "  </thead>\n",
       "  <tbody>\n",
       "    <tr>\n",
       "      <th>0</th>\n",
       "      <td>04FAM0830.html</td>\n",
       "      <td>4 FAM 830 EMERGENCY EVACUATION FISCAL POLICY</td>\n",
       "      <td>None</td>\n",
       "      <td>None</td>\n",
       "    </tr>\n",
       "    <tr>\n",
       "      <th>1</th>\n",
       "      <td>04FAM0830.html</td>\n",
       "      <td>4 FAM 830 EMERGENCY EVACUATION FISCAL POLICY</td>\n",
       "      <td>4 FAM 830</td>\n",
       "      <td>None</td>\n",
       "    </tr>\n",
       "    <tr>\n",
       "      <th>2</th>\n",
       "      <td>04FAM0830.html</td>\n",
       "      <td>4 FAM 830 EMERGENCY EVACUATION FISCAL POLICY</td>\n",
       "      <td>EMERGENCY EVACUATION</td>\n",
       "      <td>None</td>\n",
       "    </tr>\n",
       "    <tr>\n",
       "      <th>3</th>\n",
       "      <td>04FAM0830.html</td>\n",
       "      <td>4 FAM 830 EMERGENCY EVACUATION FISCAL POLICY</td>\n",
       "      <td>FISCAL POLICY</td>\n",
       "      <td>None</td>\n",
       "    </tr>\n",
       "    <tr>\n",
       "      <th>4</th>\n",
       "      <td>04FAM0830.html</td>\n",
       "      <td>4 FAM 830 EMERGENCY EVACUATION FISCAL POLICY</td>\n",
       "      <td>FISCAL POLICY</td>\n",
       "      <td>None</td>\n",
       "    </tr>\n",
       "    <tr>\n",
       "      <th>...</th>\n",
       "      <td>...</td>\n",
       "      <td>...</td>\n",
       "      <td>...</td>\n",
       "      <td>...</td>\n",
       "    </tr>\n",
       "    <tr>\n",
       "      <th>253003</th>\n",
       "      <td>03FAH012110.html</td>\n",
       "      <td>3 FAH-1 H-2110 DRUG-FREE WORKPLACE</td>\n",
       "      <td>3 FAH-1 Exhibit H-2111\\n    \\n\\n    U.S. Depar...</td>\n",
       "      <td>\\n\\n     XV.   LIST OF POSITIONS DESIGNATED FO...</td>\n",
       "    </tr>\n",
       "    <tr>\n",
       "      <th>253004</th>\n",
       "      <td>03FAH012110.html</td>\n",
       "      <td>3 FAH-1 H-2110 DRUG-FREE WORKPLACE</td>\n",
       "      <td>3 FAH-1 Exhibit H-2111\\n    \\n\\n    U.S. Depar...</td>\n",
       "      <td>\\n\\n     XV.   LIST OF POSITIONS DESIGNATED FO...</td>\n",
       "    </tr>\n",
       "    <tr>\n",
       "      <th>253005</th>\n",
       "      <td>03FAH012110.html</td>\n",
       "      <td>3 FAH-1 H-2110 DRUG-FREE WORKPLACE</td>\n",
       "      <td>3 FAH-1 Exhibit H-2111\\n    \\n\\n    U.S. Depar...</td>\n",
       "      <td>\\n\\n     XV.   LIST OF POSITIONS DESIGNATED FO...</td>\n",
       "    </tr>\n",
       "    <tr>\n",
       "      <th>253006</th>\n",
       "      <td>03FAH012110.html</td>\n",
       "      <td>3 FAH-1 H-2110 DRUG-FREE WORKPLACE</td>\n",
       "      <td>3 FAH-1 Exhibit H-2111\\n    \\n\\n    U.S. Depar...</td>\n",
       "      <td>\\n    A complete list of all TDP positions by ...</td>\n",
       "    </tr>\n",
       "    <tr>\n",
       "      <th>253007</th>\n",
       "      <td>03FAH012110.html</td>\n",
       "      <td>3 FAH-1 H-2110 DRUG-FREE WORKPLACE</td>\n",
       "      <td>3 FAH-1 Exhibit H-2111\\n    \\n\\n    U.S. Depar...</td>\n",
       "      <td>\\n    A complete list of all TDP positions by ...</td>\n",
       "    </tr>\n",
       "  </tbody>\n",
       "</table>\n",
       "<p>253008 rows × 4 columns</p>\n",
       "</div>"
      ],
      "text/plain": [
       "               file_name                                         title  \\\n",
       "0         04FAM0830.html  4 FAM 830 EMERGENCY EVACUATION FISCAL POLICY   \n",
       "1         04FAM0830.html  4 FAM 830 EMERGENCY EVACUATION FISCAL POLICY   \n",
       "2         04FAM0830.html  4 FAM 830 EMERGENCY EVACUATION FISCAL POLICY   \n",
       "3         04FAM0830.html  4 FAM 830 EMERGENCY EVACUATION FISCAL POLICY   \n",
       "4         04FAM0830.html  4 FAM 830 EMERGENCY EVACUATION FISCAL POLICY   \n",
       "...                  ...                                           ...   \n",
       "253003  03FAH012110.html            3 FAH-1 H-2110 DRUG-FREE WORKPLACE   \n",
       "253004  03FAH012110.html            3 FAH-1 H-2110 DRUG-FREE WORKPLACE   \n",
       "253005  03FAH012110.html            3 FAH-1 H-2110 DRUG-FREE WORKPLACE   \n",
       "253006  03FAH012110.html            3 FAH-1 H-2110 DRUG-FREE WORKPLACE   \n",
       "253007  03FAH012110.html            3 FAH-1 H-2110 DRUG-FREE WORKPLACE   \n",
       "\n",
       "                                                  heading  \\\n",
       "0                                                    None   \n",
       "1                                               4 FAM 830   \n",
       "2                                    EMERGENCY EVACUATION   \n",
       "3                                           FISCAL POLICY   \n",
       "4                                           FISCAL POLICY   \n",
       "...                                                   ...   \n",
       "253003  3 FAH-1 Exhibit H-2111\\n    \\n\\n    U.S. Depar...   \n",
       "253004  3 FAH-1 Exhibit H-2111\\n    \\n\\n    U.S. Depar...   \n",
       "253005  3 FAH-1 Exhibit H-2111\\n    \\n\\n    U.S. Depar...   \n",
       "253006  3 FAH-1 Exhibit H-2111\\n    \\n\\n    U.S. Depar...   \n",
       "253007  3 FAH-1 Exhibit H-2111\\n    \\n\\n    U.S. Depar...   \n",
       "\n",
       "                                                body_text  \n",
       "0                                                    None  \n",
       "1                                                    None  \n",
       "2                                                    None  \n",
       "3                                                    None  \n",
       "4                                                    None  \n",
       "...                                                   ...  \n",
       "253003  \\n\\n     XV.   LIST OF POSITIONS DESIGNATED FO...  \n",
       "253004  \\n\\n     XV.   LIST OF POSITIONS DESIGNATED FO...  \n",
       "253005  \\n\\n     XV.   LIST OF POSITIONS DESIGNATED FO...  \n",
       "253006  \\n    A complete list of all TDP positions by ...  \n",
       "253007  \\n    A complete list of all TDP positions by ...  \n",
       "\n",
       "[253008 rows x 4 columns]"
      ]
     },
     "execution_count": 22,
     "metadata": {},
     "output_type": "execute_result"
    }
   ],
   "source": [
    "df"
   ]
  },
  {
   "cell_type": "code",
   "execution_count": 35,
   "id": "7e5bcc1f",
   "metadata": {},
   "outputs": [
    {
     "data": {
      "text/plain": [
       "8"
      ]
     },
     "execution_count": 35,
     "metadata": {},
     "output_type": "execute_result"
    }
   ],
   "source": [
    "df.to_sql('fam_{today}', engine(), if_exists='replace', index=False)"
   ]
  },
  {
   "cell_type": "code",
   "execution_count": 36,
   "id": "4f45de08",
   "metadata": {},
   "outputs": [],
   "source": [
    "df_g = (\n",
    "    df.loc[df['body_text'].notna(), :]\n",
    "    .reset_index(drop=True)\n",
    "    .groupby(['file_name', 'title', 'heading'], as_index = False)['body_text']\n",
    "    .apply(lambda x: ' \\n '.join(x))\n",
    ")"
   ]
  },
  {
   "cell_type": "code",
   "execution_count": 37,
   "id": "59482936",
   "metadata": {},
   "outputs": [],
   "source": [
    "df_g['heading'] = df_g['heading'].str.split('\\n')"
   ]
  },
  {
   "cell_type": "code",
   "execution_count": 38,
   "id": "f6fcfa35",
   "metadata": {},
   "outputs": [],
   "source": [
    "df_g['ref'] = df_g['heading'].apply(lambda x: ''.join([i for i in x if 'fam' in i.lower()]) if x else None)\n",
    "df_g['heading'] = df_g['heading'].apply(lambda x: ''.join([i for i in x if 'fam' not in i.lower()]) if x else None).str.upper().str.strip()"
   ]
  },
  {
   "cell_type": "code",
   "execution_count": 39,
   "id": "24624a26",
   "metadata": {},
   "outputs": [],
   "source": [
    "df_g = df_g.replace('\\n', '')"
   ]
  },
  {
   "cell_type": "code",
   "execution_count": 40,
   "id": "8bc8de9d",
   "metadata": {},
   "outputs": [
    {
     "data": {
      "text/plain": [
       "852"
      ]
     },
     "execution_count": 40,
     "metadata": {},
     "output_type": "execute_result"
    }
   ],
   "source": [
    "df_g.to_sql('fam_grouped_{today}', engine(), if_exists='replace', index=False)"
   ]
  },
  {
   "cell_type": "code",
   "execution_count": null,
   "id": "7867fdbc",
   "metadata": {},
   "outputs": [],
   "source": []
  }
 ],
 "metadata": {
  "kernelspec": {
   "display_name": "env",
   "language": "python",
   "name": "python3"
  },
  "language_info": {
   "codemirror_mode": {
    "name": "ipython",
    "version": 3
   },
   "file_extension": ".py",
   "mimetype": "text/x-python",
   "name": "python",
   "nbconvert_exporter": "python",
   "pygments_lexer": "ipython3",
   "version": "3.13.2"
  }
 },
 "nbformat": 4,
 "nbformat_minor": 5
}
